{
 "cells": [
  {
   "cell_type": "code",
   "execution_count": 1,
   "metadata": {
    "collapsed": true
   },
   "outputs": [],
   "source": [
    "%matplotlib inline\n",
    "import pandas as pd\n",
    "data = pd.read_json('data/all_reviews.json')"
   ]
  },
  {
   "cell_type": "code",
   "execution_count": 5,
   "metadata": {
    "collapsed": false
   },
   "outputs": [],
   "source": [
    "reviews = data.text.values"
   ]
  },
  {
   "cell_type": "code",
   "execution_count": 8,
   "metadata": {
    "collapsed": true
   },
   "outputs": [],
   "source": [
    "import spacy\n",
    "nlp = spacy.load('en')"
   ]
  },
  {
   "cell_type": "code",
   "execution_count": 19,
   "metadata": {
    "collapsed": false
   },
   "outputs": [],
   "source": [
    "NUMBERS = [str(n) for n in range(0, 10)]\n",
    "BAD = ['\"', \"'\", '\\\\', '/', '+', '\\n', '$', '%', ' ']\n",
    "def clean(s):\n",
    "    clean_text = []\n",
    "    for w in nlp(s):\n",
    "        if not w.is_stop and not w.is_punct and not any(n in str(w) for n in NUMBERS + BAD):\n",
    "            clean_text.append(w.lemma_.lower())\n",
    "    return clean_text"
   ]
  },
  {
   "cell_type": "code",
   "execution_count": 20,
   "metadata": {
    "collapsed": false
   },
   "outputs": [
    {
     "data": {
      "text/plain": [
       "array([['quiet', 'open', 'usually', 'pleasant', 'staff'],\n",
       "       ['food', 'decent', 'cheap', 'employee', 'helpful'],\n",
       "       ['great', 'place', 'queen', 'boulevard', 'work', 'togethers'],\n",
       "       ['owner', 'wife', 'long', 'time', 'client', 'mom', 'mom', 'frequent', 'special', 'dinner', 'time', 'go', 'owner', 'wife', 'nice', 'people', 'mom', 'family', 'phenomenal', 'service', 'food', 'quality', 'dine'],\n",
       "       ['stellar', 'notch', 'middle', 'eastern', 'cuisine', 'believe', 'owner', 'syrian', 'flavoring', 'sauce', 'syrian', 'spin', 'magic', 'combination', 'stupendous', 'value', 'burst', 'seam', 'honestly', 'know', 'human', 'consume', 'food', 'see', 'people', 'eat', 'schwarma', 'sandwich', 'look', 'smell', 'divine', 'highly', 'recommend']], dtype=object)"
      ]
     },
     "execution_count": 20,
     "metadata": {},
     "output_type": "execute_result"
    }
   ],
   "source": [
    "reviews = [t.lower() for t in reviews]\n",
    "clean_reviews = [clean(s) for s in reviews]\n",
    "data['reviews'] = clean_reviews\n",
    "data.reviews.values[:5]"
   ]
  },
  {
   "cell_type": "code",
   "execution_count": 27,
   "metadata": {
    "collapsed": true
   },
   "outputs": [],
   "source": [
    "from gensim import corpora, models, similarities\n",
    "corpus = corpora.Dictionary(clean_reviews)"
   ]
  },
  {
   "cell_type": "code",
   "execution_count": 28,
   "metadata": {
    "collapsed": false
   },
   "outputs": [
    {
     "data": {
      "text/plain": [
       "[(0, 1), (1, 1), (2, 1), (3, 1), (4, 1)]"
      ]
     },
     "execution_count": 28,
     "metadata": {},
     "output_type": "execute_result"
    }
   ],
   "source": [
    "vec = [corpus.doc2bow(s) for s in clean_reviews]\n",
    "vec[0]"
   ]
  },
  {
   "cell_type": "code",
   "execution_count": 29,
   "metadata": {
    "collapsed": true
   },
   "outputs": [],
   "source": [
    "tfidf = models.TfidfModel(vec)"
   ]
  },
  {
   "cell_type": "code",
   "execution_count": 30,
   "metadata": {
    "collapsed": true
   },
   "outputs": [],
   "source": [
    "corpus_tfidf = tfidf[vec]"
   ]
  },
  {
   "cell_type": "code",
   "execution_count": 32,
   "metadata": {
    "collapsed": false
   },
   "outputs": [
    {
     "name": "stdout",
     "output_type": "stream",
     "text": [
      "[(0, 0.4205060129819523), (1, 0.5631000668353646), (2, 0.5097688294692193), (3, 0.23014684183234463), (4, 0.43961480806748293)]\n"
     ]
    }
   ],
   "source": [
    "print(corpus_tfidf[0])"
   ]
  },
  {
   "cell_type": "code",
   "execution_count": 85,
   "metadata": {
    "collapsed": false
   },
   "outputs": [],
   "source": [
    "lsi = models.LdaModel(corpus_tfidf, id2word=corpus, num_topics=200)\n",
    "corpus_lsi = lsi[corpus_tfidf]"
   ]
  },
  {
   "cell_type": "code",
   "execution_count": 87,
   "metadata": {
    "collapsed": false
   },
   "outputs": [
    {
     "data": {
      "text/plain": [
       "[(179,\n",
       "  '0.054*\"rest\" + 0.037*\"chair\" + 0.036*\"table\" + 0.035*\"dip\" + 0.033*\"band\" + 0.028*\"ball\" + 0.027*\"decoration\" + 0.026*\"waiting\" + 0.024*\"similar\" + 0.023*\"beware\"'),\n",
       " (149,\n",
       "  '0.103*\"notch\" + 0.092*\"yum\" + 0.059*\"sub\" + 0.055*\"rat\" + 0.021*\"mid\" + 0.014*\"nibble\" + 0.013*\"par\" + 0.013*\"tacobell\" + 0.010*\"sitting\" + 0.009*\"fajita\"'),\n",
       " (114,\n",
       "  '0.113*\"location\" + 0.088*\"near\" + 0.061*\"small\" + 0.055*\"finish\" + 0.053*\"single\" + 0.039*\"kfc\" + 0.034*\"example\" + 0.022*\"temple\" + 0.017*\"great\" + 0.017*\"hospital\"'),\n",
       " (157,\n",
       "  '0.068*\"avoid\" + 0.043*\"app\" + 0.037*\"bus\" + 0.031*\"strawberry\" + 0.024*\"apology\" + 0.017*\"boil\" + 0.016*\"email\" + 0.012*\"yuca\" + 0.010*\"train\" + 0.009*\"starve\"'),\n",
       " (6,\n",
       "  '0.100*\"fish\" + 0.083*\"quiet\" + 0.075*\"loud\" + 0.045*\"friday\" + 0.027*\"soul\" + 0.021*\"great\" + 0.020*\"lunch\" + 0.018*\"tofu\" + 0.017*\"nice\" + 0.016*\"philly\"')]"
      ]
     },
     "execution_count": 87,
     "metadata": {},
     "output_type": "execute_result"
    }
   ],
   "source": [
    "lsi.show_topics(5, num_words=10)"
   ]
  },
  {
   "cell_type": "code",
   "execution_count": 69,
   "metadata": {
    "collapsed": false
   },
   "outputs": [
    {
     "data": {
      "text/plain": [
       "2.3590860959538027"
      ]
     },
     "execution_count": 69,
     "metadata": {},
     "output_type": "execute_result"
    }
   ],
   "source": [
    "lsi.print_topics"
   ]
  },
  {
   "cell_type": "code",
   "execution_count": null,
   "metadata": {
    "collapsed": true
   },
   "outputs": [],
   "source": [
    "lsi ?? profit"
   ]
  }
 ],
 "metadata": {
  "kernelspec": {
   "display_name": "Python 3",
   "language": "python",
   "name": "python3"
  },
  "language_info": {
   "codemirror_mode": {
    "name": "ipython",
    "version": 3
   },
   "file_extension": ".py",
   "mimetype": "text/x-python",
   "name": "python",
   "nbconvert_exporter": "python",
   "pygments_lexer": "ipython3",
   "version": "3.5.2"
  }
 },
 "nbformat": 4,
 "nbformat_minor": 2
}
