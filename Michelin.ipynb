{
 "cells": [
  {
   "cell_type": "markdown",
   "metadata": {},
   "source": [
    "## Read data into pandas"
   ]
  },
  {
   "cell_type": "code",
   "execution_count": 12,
   "metadata": {
    "collapsed": false
   },
   "outputs": [],
   "source": [
    "%matplotlib inline\n",
    "import pandas as pd\n",
    "data = pd.read_json('data/all_reviews.json')"
   ]
  },
  {
   "cell_type": "code",
   "execution_count": 15,
   "metadata": {
    "collapsed": false
   },
   "outputs": [
    {
     "data": {
      "text/plain": [
       "<matplotlib.axes._subplots.AxesSubplot at 0x10e557470>"
      ]
     },
     "execution_count": 15,
     "metadata": {},
     "output_type": "execute_result"
    },
    {
     "data": {
      "image/png": "[encoded data removed]",
      "text/plain": [
       "<matplotlib.figure.Figure at 0x10e563c18>"
      ]
     },
     "metadata": {},
     "output_type": "display_data"
    }
   ],
   "source": [
    "data.groupby('author_name')['place_id'].count().sort_values(ascending=False).hist()"
   ]
  },
  {
   "cell_type": "markdown",
   "metadata": {},
   "source": [
    "## Clean text\n",
    "\n",
    "The text data isn't clean"
   ]
  },
  {
   "cell_type": "code",
   "execution_count": 2,
   "metadata": {
    "collapsed": false
   },
   "outputs": [
    {
     "data": {
      "text/plain": [
       "array(['Always quiet. Always open. Usually pleasant staff. ',\n",
       "       'The food is decent and cheap but the employees are less than helpful.',\n",
       "       'Great place on Queens Boulevard for after-work get-togethers',\n",
       "       \"The owner's wife has been (and still is) a long-time client of my mom, and my mom frequents here for special occasions/family dinners. It was my first time going there and the owner + wife couldn't be nicer people to me, my mom + family. Phenomenal service, along with the food + quality. \\n\\n10/10 would dine here again.\",\n",
       "       \"Stellar / top notch Middle Eastern cuisine.   I believe the owner is Syrian because the flavorings and sauces have a Syrian spin to them.\\n\\nThe  Magic Combination for one is a stupendous value.   You'll be bursting at the seams for $17.  Honestly, I don't know how a human being can consume all that food.\\n\\nI saw people eating schwarma sandwiches which looked and smelled divine.\\n\\nHighly recommended.\"], dtype=object)"
      ]
     },
     "execution_count": 2,
     "metadata": {},
     "output_type": "execute_result"
    }
   ],
   "source": [
    "data.text.values[:5]"
   ]
  },
  {
   "cell_type": "markdown",
   "metadata": {},
   "source": [
    "Start by loading spacy and its corpus"
   ]
  },
  {
   "cell_type": "code",
   "execution_count": 3,
   "metadata": {
    "collapsed": false
   },
   "outputs": [],
   "source": [
    "import spacy\n",
    "nlp = spacy.load('en')"
   ]
  },
  {
   "cell_type": "markdown",
   "metadata": {},
   "source": [
    "Write a function that lemmatize and removes stop words, punctuation, numbers, etc."
   ]
  },
  {
   "cell_type": "code",
   "execution_count": 4,
   "metadata": {
    "collapsed": true
   },
   "outputs": [],
   "source": [
    "NUMBERS = [str(n) for n in range(0, 10)]\n",
    "def clean(s):\n",
    "    clean_text = []\n",
    "    for w in nlp(s):\n",
    "        if not w.is_stop and not w.is_punct and not any(n in str(w) for n in NUMBERS):\n",
    "            clean_text.append(w.lemma_.lower())\n",
    "    return ' '.join(clean_text)"
   ]
  },
  {
   "cell_type": "markdown",
   "metadata": {},
   "source": [
    "Apply function to the text data"
   ]
  },
  {
   "cell_type": "code",
   "execution_count": 5,
   "metadata": {
    "collapsed": false
   },
   "outputs": [
    {
     "data": {
      "text/plain": [
       "array(['quiet open usually pleasant staff',\n",
       "       'food decent cheap employee helpful',\n",
       "       'great place queen boulevard work togethers',\n",
       "       \"owner 's wife long time client mom mom frequent special occasions/family dinner time go owner + wife not nice people mom + family phenomenal service food + quality \\n\\n dine\",\n",
       "       'stellar notch middle eastern cuisine    believe owner syrian flavoring sauce syrian spin \\n\\n   magic combination stupendous value    will burst seam $   honestly not know human consume food \\n\\n see people eat schwarma sandwich look smell divine \\n\\n highly recommend'], dtype=object)"
      ]
     },
     "execution_count": 5,
     "metadata": {},
     "output_type": "execute_result"
    }
   ],
   "source": [
    "text = data.text.tolist()\n",
    "text = [t.lower() for t in text]\n",
    "clean_text = [clean(s) for s in text]\n",
    "data['text'] = clean_text\n",
    "data.text.values[:5]"
   ]
  },
  {
   "cell_type": "markdown",
   "metadata": {},
   "source": [
    "## Modeling model\n",
    "\n",
    "Create a pipeline to vectorize the text data and run it through random forest classification. Use term frequency - inverse document frequency to conver the text to a function of its occurence in each review and occurence in all reviews."
   ]
  },
  {
   "cell_type": "code",
   "execution_count": 6,
   "metadata": {
    "collapsed": false
   },
   "outputs": [],
   "source": [
    "from sklearn.feature_extraction.text import TfidfVectorizer\n",
    "from sklearn.ensemble import RandomForestClassifier\n",
    "from sklearn.model_selection import ShuffleSplit\n",
    "from sklearn.pipeline import Pipeline\n",
    "from sklearn.utils import shuffle\n",
    "\n",
    "pipeline = Pipeline([\n",
    "    ('vectorizer',  TfidfVectorizer(max_df=0.5, ngram_range=(1,4), norm='l2', stop_words='english')),\n",
    "    ('classifier',  RandomForestClassifier(n_estimators=10))\n",
    "])"
   ]
  },
  {
   "cell_type": "markdown",
   "metadata": {},
   "source": [
    "Split data into training and test set"
   ]
  },
  {
   "cell_type": "code",
   "execution_count": 7,
   "metadata": {
    "collapsed": false
   },
   "outputs": [
    {
     "name": "stdout",
     "output_type": "stream",
     "text": [
      "11127 4770\n"
     ]
    }
   ],
   "source": [
    "rs = ShuffleSplit(n_splits=1, train_size=0.7, test_size=0.3, random_state=0)\n",
    "training_idx, testing_idx = next(rs.split(data))\n",
    "print(len(training_idx), len(testing_idx))\n",
    "training_data, testing_data = data.iloc[training_idx], data.iloc[testing_idx]"
   ]
  },
  {
   "cell_type": "markdown",
   "metadata": {},
   "source": [
    "Fit model to data"
   ]
  },
  {
   "cell_type": "code",
   "execution_count": 8,
   "metadata": {
    "collapsed": false
   },
   "outputs": [
    {
     "data": {
      "text/plain": [
       "Pipeline(steps=[('vectorizer', TfidfVectorizer(analyzer='word', binary=False, decode_error='strict',\n",
       "        dtype=<class 'numpy.int64'>, encoding='utf-8', input='content',\n",
       "        lowercase=True, max_df=0.5, max_features=None, min_df=1,\n",
       "        ngram_range=(1, 4), norm='l2', preprocessor=None, smooth_idf=Tr...imators=10, n_jobs=1, oob_score=False, random_state=None,\n",
       "            verbose=0, warm_start=False))])"
      ]
     },
     "execution_count": 8,
     "metadata": {},
     "output_type": "execute_result"
    }
   ],
   "source": [
    "pipeline.fit(training_data['text'].values, training_data.michelin_stars.values)"
   ]
  },
  {
   "cell_type": "markdown",
   "metadata": {},
   "source": [
    "## Checking performance of model"
   ]
  },
  {
   "cell_type": "code",
   "execution_count": 11,
   "metadata": {
    "collapsed": false
   },
   "outputs": [
    {
     "name": "stdout",
     "output_type": "stream",
     "text": [
      "Total reviews classified: 11127\n",
      "Score: 0.974530276061\n",
      "Confusion matrix:\n",
      " [[4683    2    1    0]\n",
      " [  65    2    0    0]\n",
      " [  11    1    0    0]\n",
      " [   4    1    0    0]]\n"
     ]
    },
    {
     "name": "stderr",
     "output_type": "stream",
     "text": [
      "/Users/rpostelnik/anaconda3/envs/analysis/lib/python3.5/site-packages/sklearn/metrics/classification.py:1023: UserWarning: Note that pos_label (set to 0) is ignored when average != 'binary' (got 'weighted'). You may use labels=[pos_label] to specify a single positive class.\n",
      "  % (pos_label, average), UserWarning)\n",
      "/Users/rpostelnik/anaconda3/envs/analysis/lib/python3.5/site-packages/sklearn/metrics/classification.py:1113: UndefinedMetricWarning: F-score is ill-defined and being set to 0.0 in labels with no predicted samples.\n",
      "  'precision', 'predicted', average, warn_for)\n"
     ]
    }
   ],
   "source": [
    "from sklearn.cross_validation import KFold\n",
    "from sklearn.metrics import confusion_matrix, f1_score\n",
    "\n",
    "predictions = pipeline.predict(testing_data.text.values)\n",
    "print('Total reviews classified:', len(training_data))\n",
    "print('Score:', f1_score(testing_data.michelin_stars, predictions, pos_label=0, average='weighted', labels=[0,1,2,3]))\n",
    "print('Confusion matrix:\\n', confusion_matrix(testing_data.michelin_stars, predictions))"
   ]
  },
  {
   "cell_type": "code",
   "execution_count": 12,
   "metadata": {
    "collapsed": false
   },
   "outputs": [
    {
     "data": {
      "text/plain": [
       "array([0])"
      ]
     },
     "execution_count": 12,
     "metadata": {},
     "output_type": "execute_result"
    }
   ],
   "source": [
    "good_review = [clean(\"\"\"Food: The Chef's Special\n",
    "Attentive and friendly service.\n",
    "Prices were moderate.\n",
    "Medium rare was done correctly and the burger is not greasy. The fries were also a great addition.\n",
    "Atmosphere: sometimes there was an awkward calmness to it, but there would be remissions of small chit-chat\n",
    "Overall: would come back and highly recommend! Go Korzo! \"\"\")]\n",
    "pipeline.predict(good_review)"
   ]
  },
  {
   "cell_type": "markdown",
   "metadata": {},
   "source": [
    "## Making an informative prediction\n",
    "\n",
    "Since so few restaurants get the Michelin distinction, we don't gain any use from restaurants that happened to not make the cut. It's also hard to make a clear definition for what is a 1, 2, or 3 star restaurant. To simplify the model, lets convert it 2 classes, a restaurant with or without michelin stars."
   ]
  },
  {
   "cell_type": "code",
   "execution_count": 14,
   "metadata": {
    "collapsed": false
   },
   "outputs": [],
   "source": [
    "data['michelin_rated'] = (data.michelin_stars > 0).astype(int)\n",
    "data.michelin_rated.sum()"
   ]
  },
  {
   "cell_type": "markdown",
   "metadata": {},
   "source": [
    "Let's try to run the random forest regressor so our model will score a restaurant review."
   ]
  },
  {
   "cell_type": "code",
   "execution_count": 17,
   "metadata": {
    "collapsed": false
   },
   "outputs": [
    {
     "name": "stdout",
     "output_type": "stream",
     "text": [
      "11127 4770\n"
     ]
    },
    {
     "data": {
      "text/plain": [
       "Pipeline(steps=[('vectorizer', TfidfVectorizer(analyzer='word', binary=False, decode_error='strict',\n",
       "        dtype=<class 'numpy.int64'>, encoding='utf-8', input='content',\n",
       "        lowercase=True, max_df=0.5, max_features=None, min_df=1,\n",
       "        ngram_range=(1, 4), norm='l2', preprocessor=None, smooth_idf=Tr...imators=10, n_jobs=1, oob_score=False, random_state=None,\n",
       "            verbose=0, warm_start=False))])"
      ]
     },
     "execution_count": 17,
     "metadata": {},
     "output_type": "execute_result"
    }
   ],
   "source": [
    "from sklearn.ensemble import RandomForestRegressor\n",
    "\n",
    "pipeline = Pipeline([\n",
    "    ('vectorizer',  TfidfVectorizer(max_df=0.5, ngram_range=(1,4), norm='l2', stop_words='english')),\n",
    "    ('classifier',  RandomForestClassifier(n_estimators=10))\n",
    "])\n",
    "rs = ShuffleSplit(n_splits=1, train_size=0.7, test_size=0.3, random_state=0)\n",
    "training_idx, testing_idx = next(rs.split(data))\n",
    "print(len(training_idx), len(testing_idx))\n",
    "training_data, testing_data = data.iloc[training_idx], data.iloc[testing_idx]\n",
    "pipeline.fit(training_data['text'].values, training_data.michelin_rated.values)"
   ]
  },
  {
   "cell_type": "markdown",
   "metadata": {},
   "source": [
    "And checking the performance"
   ]
  },
  {
   "cell_type": "code",
   "execution_count": 19,
   "metadata": {
    "collapsed": false
   },
   "outputs": [
    {
     "name": "stdout",
     "output_type": "stream",
     "text": [
      "Total reviews classified: 11127\n",
      "Score: 0.974713793393\n",
      "Confusion matrix:\n",
      " [[4682    4]\n",
      " [  81    3]]\n"
     ]
    },
    {
     "name": "stderr",
     "output_type": "stream",
     "text": [
      "/Users/rpostelnik/anaconda3/envs/analysis/lib/python3.5/site-packages/sklearn/metrics/classification.py:1023: UserWarning: Note that pos_label (set to 0) is ignored when average != 'binary' (got 'weighted'). You may use labels=[pos_label] to specify a single positive class.\n",
      "  % (pos_label, average), UserWarning)\n"
     ]
    }
   ],
   "source": [
    "predictions = pipeline.predict(testing_data.text.values)\n",
    "print('Total reviews classified:', len(training_data))\n",
    "print('Score:', f1_score(testing_data.michelin_rated, predictions, pos_label=0, average='weighted', labels=[0,1]))\n",
    "print('Confusion matrix:\\n', confusion_matrix(testing_data.michelin_rated, predictions))"
   ]
  },
  {
   "cell_type": "code",
   "execution_count": 20,
   "metadata": {
    "collapsed": false
   },
   "outputs": [
    {
     "data": {
      "text/plain": [
       "array([0])"
      ]
     },
     "execution_count": 20,
     "metadata": {},
     "output_type": "execute_result"
    }
   ],
   "source": [
    "pipeline.predict(good_review)"
   ]
  },
  {
   "cell_type": "code",
   "execution_count": null,
   "metadata": {
    "collapsed": true
   },
   "outputs": [],
   "source": [
    "k_fold = KFold(n=len(training_data), n_folds=6)\n",
    "scores = []\n",
    "confusion = None\n",
    "for train_indices, test_indices in k_fold:\n",
    "    train_text = training_data.iloc[train_indices]['text'].values\n",
    "    train_y = training_data.iloc[train_indices]['michelin_stars'].values\n",
    "\n",
    "    test_text = training_data.iloc[test_indices]['text'].values\n",
    "    test_y = training_data.iloc[test_indices]['michelin_stars'].values\n",
    "\n",
    "    pipeline.fit(train_text, train_y)\n",
    "    predictions = pipeline.predict(test_text)\n",
    "\n",
    "    if isinstance(confusion, pd.DataFrame):\n",
    "        confusion += confusion_matrix(test_y, predictions)\n",
    "    else:\n",
    "        confusion = confusion_matrix(test_y, predictions)\n",
    "    score = f1_score(test_y, predictions, pos_label=0, average='weighted', labels=[0,1,2,3])\n",
    "    scores.append(score)\n",
    "\n",
    "print('Total reviews classified:', len(training_data))\n",
    "print('Score:', sum(scores)/len(scores))\n",
    "print('Confusion matrix:')\n",
    "print(confusion)"
   ]
  },
  {
   "cell_type": "code",
   "execution_count": null,
   "metadata": {
    "collapsed": false
   },
   "outputs": [],
   "source": [
    "examples = [\"Really good meal, pricey and ~3 hours long. All the uni dishes were excellent. The appetizer / pre-sushi courses were better than the sushi courses. While I enjoyed them I was expecting a little more out of the sushi.\"]\n",
    "# example_counts = pipeline.transform(examples)\n",
    "predictions = pipeline.predict(testing_data.text)\n",
    "predictions # [1, 0]"
   ]
  },
  {
   "cell_type": "code",
   "execution_count": null,
   "metadata": {
    "collapsed": false
   },
   "outputs": [],
   "source": [
    "pipeline.predict(examples)"
   ]
  },
  {
   "cell_type": "code",
   "execution_count": null,
   "metadata": {
    "collapsed": false
   },
   "outputs": [],
   "source": [
    "pipeline.get_params()['vectorizer'].get_feature_names()"
   ]
  },
  {
   "cell_type": "code",
   "execution_count": null,
   "metadata": {
    "collapsed": false
   },
   "outputs": [],
   "source": [
    "(data.michelin_stars > 0) * 1"
   ]
  },
  {
   "cell_type": "code",
   "execution_count": null,
   "metadata": {
    "collapsed": true
   },
   "outputs": [],
   "source": [
    "data.groupby('michelin_stars')['index'].count()"
   ]
  },
  {
   "cell_type": "code",
   "execution_count": null,
   "metadata": {
    "collapsed": true
   },
   "outputs": [],
   "source": []
  }
 ],
 "metadata": {
  "kernelspec": {
   "display_name": "Python 3",
   "language": "python",
   "name": "python3"
  },
  "language_info": {
   "codemirror_mode": {
    "name": "ipython",
    "version": 3
   },
   "file_extension": ".py",
   "mimetype": "text/x-python",
   "name": "python",
   "nbconvert_exporter": "python",
   "pygments_lexer": "ipython3",
   "version": "3.5.2"
  }
 },
 "nbformat": 4,
 "nbformat_minor": 2
}
